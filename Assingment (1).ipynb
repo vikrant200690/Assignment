{
 "cells": [
  {
   "cell_type": "code",
   "execution_count": 1,
   "id": "57f52135-db60-408b-a25a-77c850bbcdf0",
   "metadata": {},
   "outputs": [
    {
     "name": "stdout",
     "output_type": "stream",
     "text": [
      "         step      type     amount     nameOrig  oldbalanceOrg  \\\n",
      "0           1   PAYMENT    9839.64  C1231006815      170136.00   \n",
      "1           1   PAYMENT    1864.28  C1666544295       21249.00   \n",
      "2           1  TRANSFER     181.00  C1305486145         181.00   \n",
      "3           1  CASH_OUT     181.00   C840083671         181.00   \n",
      "4           1   PAYMENT   11668.14  C2048537720       41554.00   \n",
      "...       ...       ...        ...          ...            ...   \n",
      "1048570    95  CASH_OUT  132557.35  C1179511630      479803.00   \n",
      "1048571    95   PAYMENT    9917.36  C1956161225       90545.00   \n",
      "1048572    95   PAYMENT   14140.05  C2037964975       20545.00   \n",
      "1048573    95   PAYMENT   10020.05  C1633237354       90605.00   \n",
      "1048574    95   PAYMENT   11450.03  C1264356443       80584.95   \n",
      "\n",
      "         newbalanceOrig     nameDest  oldbalanceDest  newbalanceDest  isFraud  \\\n",
      "0             160296.36  M1979787155            0.00            0.00        0   \n",
      "1              19384.72  M2044282225            0.00            0.00        0   \n",
      "2                  0.00   C553264065            0.00            0.00        1   \n",
      "3                  0.00    C38997010        21182.00            0.00        1   \n",
      "4              29885.86  M1230701703            0.00            0.00        0   \n",
      "...                 ...          ...             ...             ...      ...   \n",
      "1048570       347245.65   C435674507       484329.37       616886.72        0   \n",
      "1048571        80627.64   M668364942            0.00            0.00        0   \n",
      "1048572         6404.95  M1355182933            0.00            0.00        0   \n",
      "1048573        80584.95  M1964992463            0.00            0.00        0   \n",
      "1048574        69134.92   M677577406            0.00            0.00        0   \n",
      "\n",
      "         isFlaggedFraud  \n",
      "0                     0  \n",
      "1                     0  \n",
      "2                     0  \n",
      "3                     0  \n",
      "4                     0  \n",
      "...                 ...  \n",
      "1048570               0  \n",
      "1048571               0  \n",
      "1048572               0  \n",
      "1048573               0  \n",
      "1048574               0  \n",
      "\n",
      "[1048575 rows x 11 columns]\n"
     ]
    }
   ],
   "source": [
    "import numpy as np\n",
    "import pandas as pd\n",
    "df=pd.read_csv(\"Fraud.csv\")\n",
    "print(df)"
   ]
  },
  {
   "cell_type": "code",
   "execution_count": 3,
   "id": "e00b97ad-a647-4685-80ea-57389525aeb8",
   "metadata": {},
   "outputs": [
    {
     "data": {
      "text/plain": [
       "step              0\n",
       "type              0\n",
       "amount            0\n",
       "nameOrig          0\n",
       "oldbalanceOrg     0\n",
       "newbalanceOrig    0\n",
       "nameDest          0\n",
       "oldbalanceDest    0\n",
       "newbalanceDest    0\n",
       "isFraud           0\n",
       "isFlaggedFraud    0\n",
       "dtype: int64"
      ]
     },
     "execution_count": 3,
     "metadata": {},
     "output_type": "execute_result"
    }
   ],
   "source": [
    "df.isnull().sum()"
   ]
  },
  {
   "cell_type": "code",
   "execution_count": null,
   "id": "507533e7-bf4f-49a1-88f2-a548fa65501b",
   "metadata": {},
   "outputs": [],
   "source": []
  }
 ],
 "metadata": {
  "kernelspec": {
   "display_name": "Python 3 (ipykernel)",
   "language": "python",
   "name": "python3"
  },
  "language_info": {
   "codemirror_mode": {
    "name": "ipython",
    "version": 3
   },
   "file_extension": ".py",
   "mimetype": "text/x-python",
   "name": "python",
   "nbconvert_exporter": "python",
   "pygments_lexer": "ipython3",
   "version": "3.13.5"
  }
 },
 "nbformat": 4,
 "nbformat_minor": 5
}
