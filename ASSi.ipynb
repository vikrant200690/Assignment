{
 "cells": [
  {
   "cell_type": "code",
   "execution_count": 3,
   "id": "e094ae65-a96d-4b78-9bcb-3db026b9671e",
   "metadata": {},
   "outputs": [
    {
     "name": "stdout",
     "output_type": "stream",
     "text": [
      "         step      type     amount     nameOrig  oldbalanceOrg  \\\n",
      "0           1   PAYMENT    9839.64  C1231006815      170136.00   \n",
      "1           1   PAYMENT    1864.28  C1666544295       21249.00   \n",
      "2           1  TRANSFER     181.00  C1305486145         181.00   \n",
      "3           1  CASH_OUT     181.00   C840083671         181.00   \n",
      "4           1   PAYMENT   11668.14  C2048537720       41554.00   \n",
      "...       ...       ...        ...          ...            ...   \n",
      "1048570    95  CASH_OUT  132557.35  C1179511630      479803.00   \n",
      "1048571    95   PAYMENT    9917.36  C1956161225       90545.00   \n",
      "1048572    95   PAYMENT   14140.05  C2037964975       20545.00   \n",
      "1048573    95   PAYMENT   10020.05  C1633237354       90605.00   \n",
      "1048574    95   PAYMENT   11450.03  C1264356443       80584.95   \n",
      "\n",
      "         newbalanceOrig     nameDest  oldbalanceDest  newbalanceDest  isFraud  \\\n",
      "0             160296.36  M1979787155            0.00            0.00        0   \n",
      "1              19384.72  M2044282225            0.00            0.00        0   \n",
      "2                  0.00   C553264065            0.00            0.00        1   \n",
      "3                  0.00    C38997010        21182.00            0.00        1   \n",
      "4              29885.86  M1230701703            0.00            0.00        0   \n",
      "...                 ...          ...             ...             ...      ...   \n",
      "1048570       347245.65   C435674507       484329.37       616886.72        0   \n",
      "1048571        80627.64   M668364942            0.00            0.00        0   \n",
      "1048572         6404.95  M1355182933            0.00            0.00        0   \n",
      "1048573        80584.95  M1964992463            0.00            0.00        0   \n",
      "1048574        69134.92   M677577406            0.00            0.00        0   \n",
      "\n",
      "         isFlaggedFraud  \n",
      "0                     0  \n",
      "1                     0  \n",
      "2                     0  \n",
      "3                     0  \n",
      "4                     0  \n",
      "...                 ...  \n",
      "1048570               0  \n",
      "1048571               0  \n",
      "1048572               0  \n",
      "1048573               0  \n",
      "1048574               0  \n",
      "\n",
      "[1048575 rows x 11 columns]\n"
     ]
    }
   ],
   "source": [
    "import pandas as pd\n",
    "import numpy as np\n",
    "\n",
    "df=pd.read_csv(\"Fraud.csv\")\n",
    "print(df)"
   ]
  },
  {
   "cell_type": "code",
   "execution_count": 4,
   "id": "a59371d8-233b-49d5-bc17-0eae84a3255f",
   "metadata": {},
   "outputs": [],
   "source": [
    "# Load only a subset of the data\n",
    "df_sample = df.sample(frac=0.1, random_state=42)  # use 10% of data\n",
    "\n",
    "# Drop unnecessary columns\n",
    "df_sample = df_sample.drop(columns=['newbalanceOrig', 'nameOrig', 'nameDest'])\n",
    "\n",
    "# Encode 'type' column\n",
    "from sklearn.preprocessing import LabelEncoder\n",
    "le = LabelEncoder()\n",
    "df_sample['type'] = le.fit_transform(df_sample['type'])\n",
    "\n",
    "# Split features and target\n",
    "X = df_sample.drop(columns=['isFraud'])\n",
    "y = df_sample['isFraud']\n"
   ]
  },
  {
   "cell_type": "code",
   "execution_count": 6,
   "id": "7499de4b-54bf-4870-94a3-2ff87a198b2c",
   "metadata": {},
   "outputs": [
    {
     "name": "stdout",
     "output_type": "stream",
     "text": [
      "Classification Report:\n",
      "              precision    recall  f1-score   support\n",
      "\n",
      "           0       1.00      1.00      1.00    314230\n",
      "           1       1.00      0.74      0.85       343\n",
      "\n",
      "    accuracy                           1.00    314573\n",
      "   macro avg       1.00      0.87      0.93    314573\n",
      "weighted avg       1.00      1.00      1.00    314573\n",
      "\n"
     ]
    }
   ],
   "source": [
    "import pandas as pd\n",
    "from sklearn.model_selection import train_test_split\n",
    "from sklearn.preprocessing import LabelEncoder\n",
    "from sklearn.ensemble import RandomForestClassifier\n",
    "from sklearn.metrics import classification_report\n",
    "\n",
    "# Load full dataset\n",
    "df = pd.read_csv(\"Fraud.csv\")\n",
    "\n",
    "# Drop columns that are high-cardinality or redundant\n",
    "df = df.drop(columns=['newbalanceOrig', 'nameOrig', 'nameDest'])\n",
    "\n",
    "# Encode 'type' column\n",
    "le = LabelEncoder()\n",
    "df['type'] = le.fit_transform(df['type'])\n",
    "\n",
    "# Prepare features and target\n",
    "X = df.drop(columns=['isFraud'])\n",
    "y = df['isFraud']\n",
    "\n",
    "# Train-test split\n",
    "X_train, X_test, y_train, y_test = train_test_split(X, y, stratify=y, test_size=0.3, random_state=42)\n",
    "\n",
    "# Train model\n",
    "model = RandomForestClassifier(n_estimators=100, max_depth=10, random_state=42)\n",
    "model.fit(X_train, y_train)\n",
    "\n",
    "# Predict and evaluate\n",
    "y_pred = model.predict(X_test)\n",
    "print(\"Classification Report:\")\n",
    "print(classification_report(y_test, y_pred))\n"
   ]
  },
  {
   "cell_type": "code",
   "execution_count": 7,
   "id": "d36d2af0-44dc-40f6-ad06-16ee62a90929",
   "metadata": {},
   "outputs": [
    {
     "name": "stdout",
     "output_type": "stream",
     "text": [
      "          Feature        VIF\n",
      "0           const   6.714066\n",
      "1            step   1.008467\n",
      "2            type   1.177533\n",
      "3          amount   1.404912\n",
      "4   oldbalanceOrg   1.143371\n",
      "5  oldbalanceDest  31.180263\n",
      "6  newbalanceDest  32.553350\n",
      "7  isFlaggedFraud        NaN\n"
     ]
    },
    {
     "name": "stderr",
     "output_type": "stream",
     "text": [
      "C:\\Users\\vikra\\anaconda3\\Lib\\site-packages\\statsmodels\\regression\\linear_model.py:1782: RuntimeWarning: invalid value encountered in scalar divide\n",
      "  return 1 - self.ssr/self.centered_tss\n"
     ]
    }
   ],
   "source": [
    "from statsmodels.stats.outliers_influence import variance_inflation_factor\n",
    "from statsmodels.tools.tools import add_constant\n",
    "\n",
    "X = add_constant(X)\n",
    "vif = pd.DataFrame()\n",
    "vif[\"Feature\"] = X.columns\n",
    "vif[\"VIF\"] = [variance_inflation_factor(X.values, i) for i in range(X.shape[1])]\n",
    "print(vif)\n"
   ]
  },
  {
   "cell_type": "code",
   "execution_count": 8,
   "id": "d726cc0a-a437-4d50-971a-ab4b407006d3",
   "metadata": {},
   "outputs": [
    {
     "name": "stdout",
     "output_type": "stream",
     "text": [
      "Missing values:\n",
      " step              0\n",
      "type              0\n",
      "amount            0\n",
      "oldbalanceOrg     0\n",
      "oldbalanceDest    0\n",
      "newbalanceDest    0\n",
      "isFraud           0\n",
      "isFlaggedFraud    0\n",
      "dtype: int64\n"
     ]
    },
    {
     "name": "stderr",
     "output_type": "stream",
     "text": [
      "C:\\Users\\vikra\\anaconda3\\Lib\\site-packages\\statsmodels\\regression\\linear_model.py:1782: RuntimeWarning: invalid value encountered in scalar divide\n",
      "  return 1 - self.ssr/self.centered_tss\n"
     ]
    },
    {
     "name": "stdout",
     "output_type": "stream",
     "text": [
      "\n",
      "Variance Inflation Factors:\n",
      "           Feature        VIF\n",
      "0           const   6.714066\n",
      "1            step   1.008467\n",
      "2            type   1.177533\n",
      "3          amount   1.404912\n",
      "4   oldbalanceOrg   1.143371\n",
      "5  oldbalanceDest  31.180263\n",
      "6  newbalanceDest  32.553350\n",
      "7  isFlaggedFraud        NaN\n",
      "\n",
      "Classification Report:\n",
      "               precision    recall  f1-score   support\n",
      "\n",
      "           0       1.00      1.00      1.00    314230\n",
      "           1       0.74      0.08      0.14       343\n",
      "\n",
      "    accuracy                           1.00    314573\n",
      "   macro avg       0.87      0.54      0.57    314573\n",
      "weighted avg       1.00      1.00      1.00    314573\n",
      "\n",
      "\n",
      "Confusion Matrix:\n",
      " [[314221      9]\n",
      " [   317     26]]\n"
     ]
    }
   ],
   "source": [
    "import pandas as pd\n",
    "import numpy as np\n",
    "from sklearn.model_selection import train_test_split\n",
    "from sklearn.preprocessing import LabelEncoder\n",
    "from sklearn.linear_model import LogisticRegression\n",
    "from sklearn.metrics import classification_report, confusion_matrix\n",
    "from statsmodels.stats.outliers_influence import variance_inflation_factor\n",
    "from statsmodels.tools.tools import add_constant\n",
    "\n",
    "# Step 1: Load data\n",
    "df = pd.read_csv(\"Fraud.csv\")\n",
    "\n",
    "# Step 2: Drop high-cardinality or identifier columns\n",
    "df = df.drop(columns=[\"nameOrig\", \"nameDest\", \"newbalanceOrig\"])\n",
    "\n",
    "# Step 3: Handle missing values (check if any)\n",
    "print(\"Missing values:\\n\", df.isnull().sum())\n",
    "\n",
    "# Step 4: Encode 'type' column (categorical)\n",
    "le = LabelEncoder()\n",
    "df['type'] = le.fit_transform(df['type'])\n",
    "\n",
    "# Step 5: Basic outlier filtering (optional, keep amounts > 0)\n",
    "df = df[df['amount'] > 0]\n",
    "\n",
    "# Step 6: Define features and target\n",
    "X = df.drop(columns=[\"isFraud\"])\n",
    "y = df[\"isFraud\"]\n",
    "\n",
    "# Step 7: Check and remove multicollinearity using VIF\n",
    "X_const = add_constant(X)\n",
    "vif_df = pd.DataFrame()\n",
    "vif_df[\"Feature\"] = X_const.columns\n",
    "vif_df[\"VIF\"] = [variance_inflation_factor(X_const.values, i) for i in range(X_const.shape[1])]\n",
    "print(\"\\nVariance Inflation Factors:\\n\", vif_df)\n",
    "\n",
    "# Remove variables with VIF > 10\n",
    "high_vif_features = vif_df[vif_df[\"VIF\"] > 10][\"Feature\"]\n",
    "high_vif_features = high_vif_features[high_vif_features != \"const\"]\n",
    "X = X.drop(columns=high_vif_features)\n",
    "\n",
    "# Step 8: Train-test split\n",
    "X_train, X_test, y_train, y_test = train_test_split(X, y, stratify=y, test_size=0.3, random_state=42)\n",
    "\n",
    "# Step 9: Train Logistic Regression\n",
    "model = LogisticRegression(max_iter=1000)\n",
    "model.fit(X_train, y_train)\n",
    "\n",
    "# Step 10: Evaluate Model\n",
    "y_pred = model.predict(X_test)\n",
    "\n",
    "print(\"\\nClassification Report:\\n\", classification_report(y_test, y_pred))\n",
    "print(\"\\nConfusion Matrix:\\n\", confusion_matrix(y_test, y_pred))\n"
   ]
  },
  {
   "cell_type": "code",
   "execution_count": null,
   "id": "6c151600-7ef3-46fd-beaa-f7842fe244c7",
   "metadata": {},
   "outputs": [],
   "source": []
  }
 ],
 "metadata": {
  "kernelspec": {
   "display_name": "Python 3 (ipykernel)",
   "language": "python",
   "name": "python3"
  },
  "language_info": {
   "codemirror_mode": {
    "name": "ipython",
    "version": 3
   },
   "file_extension": ".py",
   "mimetype": "text/x-python",
   "name": "python",
   "nbconvert_exporter": "python",
   "pygments_lexer": "ipython3",
   "version": "3.13.5"
  }
 },
 "nbformat": 4,
 "nbformat_minor": 5
}
